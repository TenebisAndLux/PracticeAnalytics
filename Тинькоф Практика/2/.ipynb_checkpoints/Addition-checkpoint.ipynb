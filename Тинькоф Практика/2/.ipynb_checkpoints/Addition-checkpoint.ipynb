{
 "cells": [
  {
   "cell_type": "markdown",
   "id": "6ddf022e",
   "metadata": {},
   "source": [
    "Предполагается, что в рамках данного задания ученики сами будут изучать документацию, как минимум используя функционал `tab` и `shift+tab` от Jupyter"
   ]
  },
  {
   "cell_type": "markdown",
   "id": "3e4e5a6e",
   "metadata": {},
   "source": [
    "1. Импортируйте библиотеку pandas \n",
    "2. Считайте файл `wage.csv` в DataFrame с названием `wage`. Используйте для этого функцию pd.read_csv()\n",
    "\n",
    "`person_id` - идентификатор человека\n",
    "\n",
    "`gender` - пол, 0 - женский, 1 - мужской\n",
    "\n",
    "`wage` - заработная плата в рублях"
   ]
  },
  {
   "cell_type": "code",
   "execution_count": 2,
   "id": "553915f9",
   "metadata": {},
   "outputs": [
    {
     "data": {
      "text/plain": [
       "count    1006.0\n",
       "Name: wage, dtype: float64"
      ]
     },
     "execution_count": 2,
     "metadata": {},
     "output_type": "execute_result"
    }
   ],
   "source": [
    "import pandas as pd\n",
    "df = pd.read_csv(\"./wage.csv\")\n",
    "df\n",
    "df['wage'].describe().loc[['count']]"
   ]
  },
  {
   "cell_type": "markdown",
   "id": "2a05b4f4",
   "metadata": {},
   "source": [
    "3. Поменяйте колонку `gender` так, чтобы были записи `F` (female) и `M` (male) вместо 0 и 1"
   ]
  },
  {
   "cell_type": "code",
   "execution_count": 3,
   "id": "3e05e71a",
   "metadata": {},
   "outputs": [],
   "source": [
    "#df['gender'] = df['gender'].apply(lambda x: 'M' if x == 1 else 'F')\n",
    "#df['gender'] = df['gender'].map({1: 'M', 0: 'F'})\n",
    "df['gender'] = df['gender'].replace({1: 'M', 0: 'F'})\n",
    "#df"
   ]
  },
  {
   "cell_type": "markdown",
   "id": "7c6eb6ed",
   "metadata": {},
   "source": [
    "4. Давайте посчитаем среднюю зарплату у мужчин и женщин. Для этого используйте метод `groupby` со следующим синтаксисом:\n",
    "\n",
    "`dataframe.groupby(Название_колонки_для_группировки)[Перечисление_колонок_для_агрегации].функция_агрегации()`"
   ]
  },
  {
   "cell_type": "code",
   "execution_count": 4,
   "id": "4f1bd8ef",
   "metadata": {},
   "outputs": [
    {
     "data": {
      "text/plain": [
       "gender\n",
       "F    40855.747261\n",
       "M    46815.944005\n",
       "Name: wage, dtype: float64"
      ]
     },
     "execution_count": 4,
     "metadata": {},
     "output_type": "execute_result"
    }
   ],
   "source": [
    "average_wage_by_gender = df.groupby('gender')['wage'].mean()\n",
    "average_wage_by_gender"
   ]
  },
  {
   "cell_type": "markdown",
   "id": "17cd0075",
   "metadata": {},
   "source": [
    "5. Теперь взглянем внимательнее на данные и обнаружим, что некоторые люди попали в выборку несколько раз. \n",
    "    1. Найдите таких людей. Подсказка: `value_counts()`\n",
    "    0. Убедитесь, что записи по ним с одинаковым `wage`. Возможно, тут вам пригодится функция агрегации `nunique()`, отображающая количество разных значений\n",
    "    0. Избавьтесь от повторяющихся значений. Подсказка: `drop_duplicates()`"
   ]
  },
  {
   "cell_type": "code",
   "execution_count": 5,
   "id": "5b217ac3",
   "metadata": {},
   "outputs": [
    {
     "data": {
      "text/plain": [
       "gender\n",
       "F    40811.235409\n",
       "M    46531.457622\n",
       "Name: wage, dtype: float64"
      ]
     },
     "execution_count": 5,
     "metadata": {},
     "output_type": "execute_result"
    }
   ],
   "source": [
    "duplicate_names = df['person_id'].value_counts()\n",
    "duplicate_names\n",
    "unique_wages = df.groupby('person_id').nunique()\n",
    "unique_wages\n",
    "df_unique = df.drop_duplicates()\n",
    "df_unique\n",
    "average_wage_by_gender = df_unique.groupby('gender')['wage'].mean()\n",
    "average_wage_by_gender"
   ]
  },
  {
   "cell_type": "code",
   "execution_count": 6,
   "id": "ea1f3dd9-8f99-4d60-b676-9483e975d6da",
   "metadata": {},
   "outputs": [
    {
     "data": {
      "text/plain": [
       "person_id\n",
       "17     2\n",
       "16     2\n",
       "15     2\n",
       "14     2\n",
       "13     2\n",
       "      ..\n",
       "342    1\n",
       "343    1\n",
       "344    1\n",
       "345    1\n",
       "999    1\n",
       "Name: count, Length: 1000, dtype: int64"
      ]
     },
     "execution_count": 6,
     "metadata": {},
     "output_type": "execute_result"
    }
   ],
   "source": [
    "duplicate_names = df['person_id'].value_counts()\n",
    "duplicate_names"
   ]
  },
  {
   "cell_type": "code",
   "execution_count": 8,
   "id": "74d6fab2-cab0-4118-bc79-29b075e77f49",
   "metadata": {},
   "outputs": [],
   "source": [
    "unique_wages = df.groupby('person_id').nunique()\n",
    "#unique_wages"
   ]
  },
  {
   "cell_type": "code",
   "execution_count": 9,
   "id": "85ba4964-e611-4795-8aae-327c7d17bf38",
   "metadata": {},
   "outputs": [],
   "source": [
    "df_unique = df.drop_duplicates(subset=['wage'])\n",
    "#df_unique"
   ]
  },
  {
   "cell_type": "code",
   "execution_count": 10,
   "id": "19aa8d1c-43f2-44f3-8fbc-d4d461e052a5",
   "metadata": {},
   "outputs": [
    {
     "data": {
      "text/plain": [
       "gender\n",
       "F    40811.235409\n",
       "M    46531.457622\n",
       "Name: wage, dtype: float64"
      ]
     },
     "execution_count": 10,
     "metadata": {},
     "output_type": "execute_result"
    }
   ],
   "source": [
    "average_wage_by_gender = df_unique.groupby('gender')['wage'].mean()\n",
    "average_wage_by_gender"
   ]
  },
  {
   "cell_type": "markdown",
   "id": "3c35389e",
   "metadata": {},
   "source": [
    "6. Теперь посмотрим внимательнее на зарплаты\n",
    "    1. Охарактеризуйте имеющиеся данные по зарплатам. Подсказка: `describe`\n",
    "    1. Избавьтесь от бессмысленных значений"
   ]
  },
  {
   "cell_type": "code",
   "execution_count": 11,
   "id": "f2a9f991",
   "metadata": {},
   "outputs": [],
   "source": [
    "df_unique['wage'].describe()\n",
    "df_unique = df_unique.loc[df_unique['wage'] > 0]\n",
    "df_unique = df_unique.dropna(subset=['wage']) # ещё на всякий случай удалим с пустыми значениями"
   ]
  },
  {
   "cell_type": "markdown",
   "id": "718d0f32",
   "metadata": {},
   "source": [
    "7. Давайте теперь посмотрим на зарплату с учетом бонуса. Для этого нам понадобится таблица `bonus.csv`. Считайте ее в переменную `bonus`. Заметьте, что она сохранена немного в другом формате, и вам понадобится уточнить параметр `sep` - разделитель записей. Сравните текущий файл с предыдущим и попробуйте решить проблему"
   ]
  },
  {
   "cell_type": "code",
   "execution_count": 12,
   "id": "d300bba5",
   "metadata": {},
   "outputs": [],
   "source": [
    "bonus = pd.read_csv(\"./bonus.csv\", sep=';')\n",
    "#bonus"
   ]
  },
  {
   "cell_type": "code",
   "execution_count": 13,
   "id": "ea0044d9-5cc5-494c-802a-2a11727e2eb8",
   "metadata": {},
   "outputs": [],
   "source": [
    "df = pd.read_csv(\"./wage.csv\")\n",
    "#df"
   ]
  },
  {
   "cell_type": "markdown",
   "id": "66f6ce0a",
   "metadata": {},
   "source": [
    "8. Чтобы посчитать итоговую зарплату, нам нужно по каждому человеку знать и оклад, и премию. Для этого надо будет соединить (сджойнить) таблицы по `person_id`. Используйте для этого функцию `pd.merge`. Помните, что параметр `how` должен быть `'outer'`, чтобы сохранить те записи, что есть только в одной таблице. Результат запишите в новый dataframe `df`"
   ]
  },
  {
   "cell_type": "code",
   "execution_count": 14,
   "id": "6dee7694-f40e-423b-a99a-931536279e7b",
   "metadata": {},
   "outputs": [],
   "source": [
    "result = df_unique.merge(bonus, how = 'outer', on='person_id')\n",
    "#result"
   ]
  },
  {
   "cell_type": "markdown",
   "id": "7dbe4c75",
   "metadata": {},
   "source": [
    "9. Наконец, давайте посчитаем итоговую зарплату\n",
    "    1. Замените отсутствующие записи в колонке `bonus` нулями\n",
    "    1. Уберите людей без `wage` - это те \"плохие\" записи, от которых мы избавлялись на предыдущих шагах\n",
    "    1. Сделайте новую колонку `total`, которая будет равна 12 окладам и премии\n",
    "    1. Посчитайте среднюю и медианную итоговую зарплату в разрезе по полу. Подсказка: вместо функции агрегации можно написать `.agg()` и перечислить внутри нужные агрегаты"
   ]
  },
  {
   "cell_type": "code",
   "execution_count": 15,
   "id": "289ff9e8",
   "metadata": {},
   "outputs": [],
   "source": [
    "result['bonus'].fillna(0, inplace=True)\n",
    "#result"
   ]
  },
  {
   "cell_type": "code",
   "execution_count": 16,
   "id": "3c686b4b-7978-4d87-bb7f-4112c19277f5",
   "metadata": {},
   "outputs": [],
   "source": [
    "result = result[result['wage'].notna()]\n",
    "#result"
   ]
  },
  {
   "cell_type": "code",
   "execution_count": 17,
   "id": "f5f9b71e-0e26-4039-a6c7-af41cf982be9",
   "metadata": {},
   "outputs": [],
   "source": [
    "result['total'] = result['wage'] * 12 + result['bonus']\n",
    "#result"
   ]
  },
  {
   "cell_type": "code",
   "execution_count": 27,
   "id": "7ab37fbc-ed93-4701-8671-0bf772334329",
   "metadata": {},
   "outputs": [
    {
     "data": {
      "text/html": [
       "<div>\n",
       "<style scoped>\n",
       "    .dataframe tbody tr th:only-of-type {\n",
       "        vertical-align: middle;\n",
       "    }\n",
       "\n",
       "    .dataframe tbody tr th {\n",
       "        vertical-align: top;\n",
       "    }\n",
       "\n",
       "    .dataframe thead tr th {\n",
       "        text-align: left;\n",
       "    }\n",
       "\n",
       "    .dataframe thead tr:last-of-type th {\n",
       "        text-align: right;\n",
       "    }\n",
       "</style>\n",
       "<table border=\"1\" class=\"dataframe\">\n",
       "  <thead>\n",
       "    <tr>\n",
       "      <th></th>\n",
       "      <th colspan=\"2\" halign=\"left\">total</th>\n",
       "    </tr>\n",
       "    <tr>\n",
       "      <th></th>\n",
       "      <th>mean</th>\n",
       "      <th>median</th>\n",
       "    </tr>\n",
       "    <tr>\n",
       "      <th>gender</th>\n",
       "      <th></th>\n",
       "      <th></th>\n",
       "    </tr>\n",
       "  </thead>\n",
       "  <tbody>\n",
       "    <tr>\n",
       "      <th>F</th>\n",
       "      <td>570746.139432</td>\n",
       "      <td>347622.913892</td>\n",
       "    </tr>\n",
       "    <tr>\n",
       "      <th>M</th>\n",
       "      <td>657142.490282</td>\n",
       "      <td>437499.824868</td>\n",
       "    </tr>\n",
       "  </tbody>\n",
       "</table>\n",
       "</div>"
      ],
      "text/plain": [
       "                total               \n",
       "                 mean         median\n",
       "gender                              \n",
       "F       570746.139432  347622.913892\n",
       "M       657142.490282  437499.824868"
      ]
     },
     "execution_count": 27,
     "metadata": {},
     "output_type": "execute_result"
    }
   ],
   "source": [
    "aggregate_functions = {'total': ['mean', 'median']}\n",
    "results = result.groupby('gender').agg(aggregate_functions)\n",
    "results"
   ]
  },
  {
   "cell_type": "markdown",
   "id": "0e3ca182",
   "metadata": {},
   "source": [
    "10. Сохраните `df` в файл, используя метод `to_csv()`. Не записывайте индексы"
   ]
  },
  {
   "cell_type": "code",
   "execution_count": 79,
   "id": "614d39e1",
   "metadata": {},
   "outputs": [],
   "source": [
    "result.to_csv('result.csv', index=False)"
   ]
  }
 ],
 "metadata": {
  "kernelspec": {
   "display_name": "Python 3 (ipykernel)",
   "language": "python",
   "name": "python3"
  },
  "language_info": {
   "codemirror_mode": {
    "name": "ipython",
    "version": 3
   },
   "file_extension": ".py",
   "mimetype": "text/x-python",
   "name": "python",
   "nbconvert_exporter": "python",
   "pygments_lexer": "ipython3",
   "version": "3.11.7"
  },
  "toc": {
   "base_numbering": 1,
   "nav_menu": {},
   "number_sections": true,
   "sideBar": true,
   "skip_h1_title": false,
   "title_cell": "Table of Contents",
   "title_sidebar": "Contents",
   "toc_cell": false,
   "toc_position": {},
   "toc_section_display": true,
   "toc_window_display": false
  }
 },
 "nbformat": 4,
 "nbformat_minor": 5
}

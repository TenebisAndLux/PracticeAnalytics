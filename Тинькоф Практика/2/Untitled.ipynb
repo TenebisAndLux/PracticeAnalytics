{
 "cells": [
  {
   "cell_type": "code",
   "execution_count": 8,
   "id": "396bf5e8-ed21-480f-990e-c726853ce86b",
   "metadata": {},
   "outputs": [
    {
     "name": "stdout",
     "output_type": "stream",
     "text": [
      "Requirement already satisfied: sympy in d:\\soft\\lib\\site-packages (1.12)\n",
      "Requirement already satisfied: mpmath>=0.19 in d:\\soft\\lib\\site-packages (from sympy) (1.3.0)\n"
     ]
    }
   ],
   "source": [
    "!pip install sympy"
   ]
  },
  {
   "cell_type": "code",
   "execution_count": 9,
   "id": "06d2c119-8fe4-478a-96a6-870ae4fd6586",
   "metadata": {},
   "outputs": [],
   "source": [
    "a = 10/2"
   ]
  },
  {
   "cell_type": "code",
   "execution_count": 10,
   "id": "9860e1e9-5a17-44e6-b55d-b5f32c2a25fb",
   "metadata": {},
   "outputs": [
    {
     "data": {
      "text/plain": [
       "float"
      ]
     },
     "execution_count": 10,
     "metadata": {},
     "output_type": "execute_result"
    }
   ],
   "source": [
    "type(a)"
   ]
  },
  {
   "cell_type": "code",
   "execution_count": 11,
   "id": "a13e6da9-559a-4414-8a37-d2320764038f",
   "metadata": {},
   "outputs": [
    {
     "data": {
      "text/plain": [
       "True"
      ]
     },
     "execution_count": 11,
     "metadata": {},
     "output_type": "execute_result"
    }
   ],
   "source": [
    "'Курс по анализу' >= 'Данных' "
   ]
  },
  {
   "cell_type": "code",
   "execution_count": 12,
   "id": "8c6e3839-a0d8-4017-af01-fe4152034e8d",
   "metadata": {},
   "outputs": [
    {
     "ename": "NameError",
     "evalue": "name 'hello' is not defined",
     "output_type": "error",
     "traceback": [
      "\u001b[1;31m---------------------------------------------------------------------------\u001b[0m",
      "\u001b[1;31mNameError\u001b[0m                                 Traceback (most recent call last)",
      "Cell \u001b[1;32mIn[12], line 1\u001b[0m\n\u001b[1;32m----> 1\u001b[0m \u001b[38;5;28mstr\u001b[39m(hello)\n",
      "\u001b[1;31mNameError\u001b[0m: name 'hello' is not defined"
     ]
    }
   ],
   "source": [
    "str(hello)"
   ]
  },
  {
   "cell_type": "code",
   "execution_count": 13,
   "id": "c54f8f13-ee85-4f77-b646-beb1ae53461a",
   "metadata": {},
   "outputs": [],
   "source": [
    " a = 'привет '"
   ]
  },
  {
   "cell_type": "code",
   "execution_count": 14,
   "id": "c7545ef0-571c-4f7d-8b74-030858ff81a6",
   "metadata": {},
   "outputs": [
    {
     "data": {
      "text/plain": [
       "'в'"
      ]
     },
     "execution_count": 14,
     "metadata": {},
     "output_type": "execute_result"
    }
   ],
   "source": [
    "a[1+2]"
   ]
  },
  {
   "cell_type": "code",
   "execution_count": 15,
   "id": "68601707-a069-492b-bad6-cf087f67abce",
   "metadata": {},
   "outputs": [
    {
     "data": {
      "text/plain": [
       "(1, 2, 3, 4, 5)"
      ]
     },
     "execution_count": 15,
     "metadata": {},
     "output_type": "execute_result"
    }
   ],
   "source": [
    "(1, 2, 3) + (4, 5)"
   ]
  },
  {
   "cell_type": "code",
   "execution_count": 16,
   "id": "670fecdc-548b-453f-a1c9-ee2af90a5406",
   "metadata": {},
   "outputs": [
    {
     "data": {
      "text/plain": [
       "(1, 2, 3, 1, '2')"
      ]
     },
     "execution_count": 16,
     "metadata": {},
     "output_type": "execute_result"
    }
   ],
   "source": [
    "(1, 2, 3) + (1, '2')"
   ]
  },
  {
   "cell_type": "code",
   "execution_count": 17,
   "id": "ea1ae04f-f88f-43d1-a44f-e88df956eab6",
   "metadata": {},
   "outputs": [
    {
     "ename": "TypeError",
     "evalue": "can only concatenate tuple (not \"int\") to tuple",
     "output_type": "error",
     "traceback": [
      "\u001b[1;31m---------------------------------------------------------------------------\u001b[0m",
      "\u001b[1;31mTypeError\u001b[0m                                 Traceback (most recent call last)",
      "Cell \u001b[1;32mIn[17], line 1\u001b[0m\n\u001b[1;32m----> 1\u001b[0m (\u001b[38;5;241m1\u001b[39m, \u001b[38;5;241m2\u001b[39m, \u001b[38;5;241m3\u001b[39m) \u001b[38;5;241m+\u001b[39m (\u001b[38;5;241m1\u001b[39m)\n",
      "\u001b[1;31mTypeError\u001b[0m: can only concatenate tuple (not \"int\") to tuple"
     ]
    }
   ],
   "source": [
    "(1, 2, 3) + (1)\n",
    "\n"
   ]
  },
  {
   "cell_type": "code",
   "execution_count": 18,
   "id": "ebfadf2e-9521-4835-9bfe-ef847b1c45bb",
   "metadata": {},
   "outputs": [
    {
     "data": {
      "text/plain": [
       "3"
      ]
     },
     "execution_count": 18,
     "metadata": {},
     "output_type": "execute_result"
    }
   ],
   "source": [
    "(1) + (2)\n",
    "\n"
   ]
  },
  {
   "cell_type": "code",
   "execution_count": 19,
   "id": "92416fc0-1db8-4252-a5a9-5d9670770cda",
   "metadata": {},
   "outputs": [
    {
     "data": {
      "text/plain": [
       "(1, 2, 3, 2)"
      ]
     },
     "execution_count": 19,
     "metadata": {},
     "output_type": "execute_result"
    }
   ],
   "source": [
    "(1, 2, 3) + (2, )\n",
    "\n"
   ]
  },
  {
   "cell_type": "code",
   "execution_count": 20,
   "id": "813fb4a4-a262-4348-840f-4a278c718112",
   "metadata": {},
   "outputs": [
    {
     "ename": "TypeError",
     "evalue": "can only concatenate tuple (not \"list\") to tuple",
     "output_type": "error",
     "traceback": [
      "\u001b[1;31m---------------------------------------------------------------------------\u001b[0m",
      "\u001b[1;31mTypeError\u001b[0m                                 Traceback (most recent call last)",
      "Cell \u001b[1;32mIn[20], line 1\u001b[0m\n\u001b[1;32m----> 1\u001b[0m (\u001b[38;5;241m1\u001b[39m, \u001b[38;5;241m2\u001b[39m, \u001b[38;5;241m3\u001b[39m) \u001b[38;5;241m+\u001b[39m [\u001b[38;5;241m4\u001b[39m, \u001b[38;5;241m5\u001b[39m]\n",
      "\u001b[1;31mTypeError\u001b[0m: can only concatenate tuple (not \"list\") to tuple"
     ]
    }
   ],
   "source": [
    "(1, 2, 3) + [4, 5]"
   ]
  },
  {
   "cell_type": "code",
   "execution_count": 24,
   "id": "2d27e52a-f393-4ddf-8023-ac179ab4027e",
   "metadata": {},
   "outputs": [],
   "source": [
    "t = 'Hello! Its my test string for manipulated '"
   ]
  },
  {
   "cell_type": "code",
   "execution_count": 25,
   "id": "748c39dd-3757-409d-99ee-05adeac53e12",
   "metadata": {},
   "outputs": [
    {
     "data": {
      "text/plain": [
       "'Hello! its my test string for manipulated '"
      ]
     },
     "execution_count": 25,
     "metadata": {},
     "output_type": "execute_result"
    }
   ],
   "source": [
    "t.capitalize()"
   ]
  },
  {
   "cell_type": "code",
   "execution_count": 28,
   "id": "0584c6eb-0c6c-4fb2-951a-238a1bb3fdd9",
   "metadata": {},
   "outputs": [
    {
     "data": {
      "text/plain": [
       "'HЁllo! Its my tЁst string for manipulatЁd '"
      ]
     },
     "execution_count": 28,
     "metadata": {},
     "output_type": "execute_result"
    }
   ],
   "source": [
    "t = t.replace('e', 'Ё')\n",
    "t"
   ]
  },
  {
   "cell_type": "code",
   "execution_count": 29,
   "id": "077e158c-d531-41af-b474-95c8bc56c2b8",
   "metadata": {},
   "outputs": [
    {
     "data": {
      "text/plain": [
       "'HЁllo! Its my tЁst string for manipulatЁd'"
      ]
     },
     "execution_count": 29,
     "metadata": {},
     "output_type": "execute_result"
    }
   ],
   "source": [
    "t.strip()"
   ]
  },
  {
   "cell_type": "code",
   "execution_count": 30,
   "id": "cc1f56a0-5492-4658-b32a-18c093310636",
   "metadata": {},
   "outputs": [
    {
     "data": {
      "text/plain": [
       "'hёllo! its my tёst string for manipulatёd '"
      ]
     },
     "execution_count": 30,
     "metadata": {},
     "output_type": "execute_result"
    }
   ],
   "source": [
    "t.lower()"
   ]
  },
  {
   "cell_type": "code",
   "execution_count": 31,
   "id": "46b6dc4f-4d65-4641-96ed-fd4b3153ebfe",
   "metadata": {},
   "outputs": [
    {
     "data": {
      "text/plain": [
       "'HЁLLO! ITS MY TЁST STRING FOR MANIPULATЁD '"
      ]
     },
     "execution_count": 31,
     "metadata": {},
     "output_type": "execute_result"
    }
   ],
   "source": [
    "t.upper()"
   ]
  },
  {
   "cell_type": "code",
   "execution_count": 33,
   "id": "5a27a7b2-1953-47f7-b758-7dc1ad507237",
   "metadata": {},
   "outputs": [
    {
     "data": {
      "text/plain": [
       "'                        HЁllo! Its my tЁst string for manipulatЁd                         '"
      ]
     },
     "execution_count": 33,
     "metadata": {},
     "output_type": "execute_result"
    }
   ],
   "source": [
    "t.center(90)"
   ]
  },
  {
   "cell_type": "code",
   "execution_count": 34,
   "id": "4bd95ab7-e3dc-4d0d-a3f3-f9b0c1c29cca",
   "metadata": {},
   "outputs": [
    {
     "data": {
      "text/plain": [
       "['HЁllo!', 'Its', 'my', 'tЁst', 'string', 'for', 'manipulatЁd']"
      ]
     },
     "execution_count": 34,
     "metadata": {},
     "output_type": "execute_result"
    }
   ],
   "source": [
    "t.split()"
   ]
  },
  {
   "cell_type": "code",
   "execution_count": 40,
   "id": "c122c335-91aa-45e9-ba19-a185ad0c8458",
   "metadata": {},
   "outputs": [
    {
     "name": "stdout",
     "output_type": "stream",
     "text": [
      "Hello\n",
      "Hello\n",
      "Hello\n"
     ]
    }
   ],
   "source": [
    "for i in range(10):\n",
    "    if i > 5:\n",
    "        break\n",
    "    elif i % 2 == 0:\n",
    "        continue\n",
    "    print('Hello')"
   ]
  },
  {
   "cell_type": "code",
   "execution_count": 2,
   "id": "5c8a0d43-33b3-43b1-819b-d783467c5eb9",
   "metadata": {},
   "outputs": [],
   "source": [
    "import pandas as pd"
   ]
  },
  {
   "cell_type": "code",
   "execution_count": 3,
   "id": "b0cac65b-8fe6-49db-a082-3166529ef6ed",
   "metadata": {},
   "outputs": [],
   "source": [
    "df = pd.DataFrame([\n",
    "    [i for i in range(100)],\n",
    "    ['a' + str(i) for i in range(100)]\n",
    "    ])\n",
    "#df"
   ]
  },
  {
   "cell_type": "code",
   "execution_count": 4,
   "id": "952a54a9-b217-40fa-9615-7664da3cdf02",
   "metadata": {},
   "outputs": [],
   "source": [
    "df = pd.DataFrame({\n",
    "    'number': [i for i in range(100)],\n",
    "    'char': ['a' + str(i) for i in range(100)]\n",
    "})\n",
    "#df"
   ]
  },
  {
   "cell_type": "code",
   "execution_count": 5,
   "id": "79cd9f6a-b611-46ae-aa17-7529310b8e87",
   "metadata": {},
   "outputs": [],
   "source": [
    "#df['number']"
   ]
  },
  {
   "cell_type": "code",
   "execution_count": 6,
   "id": "78b87217-bf4c-44a9-b914-1862611f8740",
   "metadata": {},
   "outputs": [],
   "source": [
    "#df.T"
   ]
  },
  {
   "cell_type": "code",
   "execution_count": 52,
   "id": "c2b5531c-e8fc-46e4-8921-7e2f3ac903e7",
   "metadata": {},
   "outputs": [
    {
     "data": {
      "text/plain": [
       "'a6'"
      ]
     },
     "execution_count": 52,
     "metadata": {},
     "output_type": "execute_result"
    }
   ],
   "source": [
    "df['char'][6]"
   ]
  },
  {
   "cell_type": "code",
   "execution_count": 54,
   "id": "07c824df-fb6d-4424-b0e6-e28266deaa83",
   "metadata": {},
   "outputs": [
    {
     "data": {
      "text/plain": [
       "'a6'"
      ]
     },
     "execution_count": 54,
     "metadata": {},
     "output_type": "execute_result"
    }
   ],
   "source": [
    "df.loc[6,'char']"
   ]
  },
  {
   "cell_type": "code",
   "execution_count": 7,
   "id": "a5e47c1b-1350-4f35-9892-f53925b14b6b",
   "metadata": {},
   "outputs": [],
   "source": [
    "#df.iloc[6:17:2, 1]"
   ]
  },
  {
   "cell_type": "code",
   "execution_count": 58,
   "id": "072c0250-fcbc-433f-838d-77d3cb7f1212",
   "metadata": {},
   "outputs": [],
   "source": [
    "df.iloc[6:17:2, 1] = 'test'"
   ]
  },
  {
   "cell_type": "code",
   "execution_count": 8,
   "id": "f2d44d67-5882-4356-a958-9f7e7df50038",
   "metadata": {},
   "outputs": [],
   "source": [
    "#df.query('char == \"test\"')"
   ]
  },
  {
   "cell_type": "code",
   "execution_count": 9,
   "id": "24e104bb-8b49-418f-a0f4-b407886780cf",
   "metadata": {},
   "outputs": [],
   "source": [
    "#df.loc[df.char == 'test',]"
   ]
  },
  {
   "cell_type": "code",
   "execution_count": 64,
   "id": "f4f61382-63bc-4fcc-89a1-023a6e35f080",
   "metadata": {},
   "outputs": [],
   "source": [
    "fun =lambda x: x + '_cur'"
   ]
  },
  {
   "cell_type": "code",
   "execution_count": 65,
   "id": "670f182e-a7cd-4b1a-a23c-f07f1abf6797",
   "metadata": {},
   "outputs": [
    {
     "data": {
      "text/plain": [
       "'test_cur'"
      ]
     },
     "execution_count": 65,
     "metadata": {},
     "output_type": "execute_result"
    }
   ],
   "source": [
    "fun('test')"
   ]
  },
  {
   "cell_type": "code",
   "execution_count": 11,
   "id": "1a8f1005-9f3c-4047-889b-0044d49eb44f",
   "metadata": {},
   "outputs": [],
   "source": [
    "#df['char']\n",
    "#df.char.apply(lambda x: x + '_cur')"
   ]
  },
  {
   "cell_type": "code",
   "execution_count": 12,
   "id": "d3b5e6d0-9aeb-437f-965c-e145d9a9376d",
   "metadata": {},
   "outputs": [],
   "source": [
    "#df.char + '_cur'"
   ]
  },
  {
   "cell_type": "code",
   "execution_count": null,
   "id": "bcb69dcf-351a-4f8d-af83-e83d93e8ebfd",
   "metadata": {},
   "outputs": [],
   "source": []
  }
 ],
 "metadata": {
  "kernelspec": {
   "display_name": "Python 3 (ipykernel)",
   "language": "python",
   "name": "python3"
  },
  "language_info": {
   "codemirror_mode": {
    "name": "ipython",
    "version": 3
   },
   "file_extension": ".py",
   "mimetype": "text/x-python",
   "name": "python",
   "nbconvert_exporter": "python",
   "pygments_lexer": "ipython3",
   "version": "3.11.7"
  }
 },
 "nbformat": 4,
 "nbformat_minor": 5
}
